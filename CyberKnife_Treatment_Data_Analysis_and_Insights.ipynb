{
  "nbformat": 4,
  "nbformat_minor": 0,
  "metadata": {
    "colab": {
      "provenance": [],
      "authorship_tag": "ABX9TyOzm4fRpnaURt/UNQvmDDnK",
      "include_colab_link": true
    },
    "kernelspec": {
      "name": "python3",
      "display_name": "Python 3"
    },
    "language_info": {
      "name": "python"
    }
  },
  "cells": [
    {
      "cell_type": "markdown",
      "metadata": {
        "id": "view-in-github",
        "colab_type": "text"
      },
      "source": [
        "<a href=\"https://colab.research.google.com/github/JanaSchwarzerova/CyberKnife-Treatment-Data-Analysis-and-Insights/blob/main/CyberKnife_Treatment_Data_Analysis_and_Insights.ipynb\" target=\"_parent\"><img src=\"https://colab.research.google.com/assets/colab-badge.svg\" alt=\"Open In Colab\"/></a>"
      ]
    },
    {
      "cell_type": "markdown",
      "source": [
        "# Introduciton – CyberKnife-Treatment-Data-Analysis-and-Insights.ipynb\n",
        "\n",
        "This notebook presents an design for analysis of a dataset collected from patients who underwent CyberKnife treatment. The goal of this analysis is to explore the relationships between clinical parameters, diagnoses, and treatment outcomes, with a focus on complications, hospitalization duration, and other key factors that could influence patient recovery and treatment effectiveness.\n",
        "\n",
        "The notebook is structured to walk you through the entire process of data handling, from loading and preprocessing the data to applying machine learning models for regression and classification tasks. Key methods used in this analysis include:\n",
        "\n",
        "\n",
        "\n",
        "1.   Data Preprocessing: Cleaning and transforming the data to prepare it for analysis.\n",
        "2.   Association Rule Mining: Using the Apriori algorithm to discover relationships between diagnoses.\n",
        "3.  Regression Analysis: Analyzing the relationship between clinical factors (such as age and sex) and complications or hospitalization duration.\n",
        "4.  Random Forest Regressor: Building an ensemble model to improve predictions and identify key factors influencing patient outcomes.\n",
        "5.  Visualization: Visualizing the performance of the models and the relationships between actual and predicted outcomes.\n",
        "\n",
        "Through this analysis, we aim to gain insights into the treatment outcomes of CyberKnife patients, providing valuable information to clinicians and medical practitioners."
      ],
      "metadata": {
        "id": "YirrX47dnWgb"
      }
    },
    {
      "cell_type": "markdown",
      "source": [
        "**Step 1: Set up the environment and import libraries**\n",
        "\n",
        "Start by importing the required libraries. You'll need libraries like pandas, numpy, matplotlib, seaborn, mlxtend, sklearn, etc."
      ],
      "metadata": {
        "id": "9Rjj7xYHmqcK"
      }
    },
    {
      "cell_type": "code",
      "source": [
        "# Install necessary libraries\n",
        "!pip install mlxtend\n",
        "\n",
        "# Import required libraries\n",
        "import pandas as pd\n",
        "import numpy as np\n",
        "import matplotlib.pyplot as plt\n",
        "import seaborn as sns\n",
        "from mlxtend.frequent_patterns import apriori, association_rules\n",
        "from sklearn.linear_model import LogisticRegression, LinearRegression\n",
        "from sklearn.ensemble import RandomForestRegressor\n",
        "from sklearn.metrics import mean_squared_error, r2_score\n"
      ],
      "metadata": {
        "id": "wcWAaeKpm__j"
      },
      "execution_count": null,
      "outputs": []
    },
    {
      "cell_type": "markdown",
      "source": [
        "**Step 2: Load the datasets**\n",
        "\n",
        "Assuming you have the data in CSV files, you can load them using pandas. You can also add options to handle large datasets efficiently."
      ],
      "metadata": {
        "id": "DcfDhaYEnMzU"
      }
    },
    {
      "cell_type": "code",
      "source": [
        "# Load the datasets\n",
        "patients_df = pd.read_csv('patients.csv')\n",
        "documents_df = pd.read_csv('documents.csv')\n",
        "diagnoses_df = pd.read_csv('diagnoses.csv')\n",
        "\n",
        "# Display the first few rows to understand the data\n",
        "patients_df.head(), documents_df.head(), diagnoses_df.head()\n"
      ],
      "metadata": {
        "id": "PVKHtrnbncsR"
      },
      "execution_count": null,
      "outputs": []
    },
    {
      "cell_type": "markdown",
      "source": [
        "**Step 3: Preprocessing the data**\n",
        "\n",
        "Here you can clean the data, handle missing values, and standardize or transform the necessary columns (e.g., date of birth to age)."
      ],
      "metadata": {
        "id": "lMF0cZUgnd8g"
      }
    },
    {
      "cell_type": "code",
      "source": [
        "# Convert Date of Birth to datetime\n",
        "patients_df['date_of_birth'] = pd.to_datetime(patients_df['date_of_birth'])\n",
        "\n",
        "# Calculate Age based on Date of Birth\n",
        "patients_df['age'] = (pd.to_datetime('today') - patients_df['date_of_birth']).dt.days // 365\n",
        "\n",
        "# Handle missing or erroneous data (e.g., removing rows with invalid ages)\n",
        "patients_df = patients_df[patients_df['age'] > 0]\n",
        "\n",
        "# Check for missing values\n",
        "patients_df.isnull().sum()\n"
      ],
      "metadata": {
        "id": "bjvQtPrpnkRU"
      },
      "execution_count": null,
      "outputs": []
    },
    {
      "cell_type": "markdown",
      "source": [
        "**Step 4: Association Rule Mining (Apriori Algorithm)**\n",
        "\n",
        "Convert categorical diagnosis data to binary (one-hot encoded) format and apply the Apriori algorithm to identify frequent itemsets."
      ],
      "metadata": {
        "id": "r8t5sXnMnml2"
      }
    },
    {
      "cell_type": "code",
      "source": [
        "# Apply one-hot encoding to diagnoses data\n",
        "diagnoses_onehot = pd.get_dummies(diagnoses_df, columns=['diagnosis_code'])\n",
        "\n",
        "# Apply Apriori algorithm to find frequent itemsets\n",
        "frequent_itemsets = apriori(diagnoses_onehot, min_support=0.1, use_colnames=True)\n",
        "\n",
        "# Generate association rules\n",
        "association_rules_df = association_rules(frequent_itemsets, metric=\"lift\", min_threshold=1.0)\n",
        "\n",
        "# Display the association rules\n",
        "association_rules_df.head()\n"
      ],
      "metadata": {
        "id": "EgtUqXGinrcb"
      },
      "execution_count": null,
      "outputs": []
    },
    {
      "cell_type": "markdown",
      "source": [
        "**Step 5: Regression Analysis**\n",
        "\n",
        "Use logistic and linear regression to analyze the relationship between clinical factors (age, sex) and treatment outcomes (e.g., complications, hospitalization duration)."
      ],
      "metadata": {
        "id": "2GpscexynveI"
      }
    },
    {
      "cell_type": "markdown",
      "source": [
        "*Logistic regression*"
      ],
      "metadata": {
        "id": "j_WlJtbWn0p3"
      }
    },
    {
      "cell_type": "code",
      "source": [
        "# Logistic regression for complications (binary outcome: 0/1)\n",
        "X = patients_df[['age', 'sex']]  # Example features: age and sex\n",
        "y = patients_df['complications']  # Target variable: complications\n",
        "\n",
        "log_reg = LogisticRegression()\n",
        "log_reg.fit(X, y)\n",
        "\n",
        "# Predictions and evaluation\n",
        "y_pred = log_reg.predict(X)\n",
        "print(f\"Logistic Regression Accuracy: {log_reg.score(X, y)}\")\n"
      ],
      "metadata": {
        "id": "wwcxenZ4nyI2"
      },
      "execution_count": null,
      "outputs": []
    },
    {
      "cell_type": "markdown",
      "source": [
        "*Linear Regression*"
      ],
      "metadata": {
        "id": "TSfnXv7Zn7Oi"
      }
    },
    {
      "cell_type": "code",
      "source": [
        "# Linear regression for hospitalization duration\n",
        "X = patients_df[['age', 'sex']]\n",
        "y = patients_df['duration']  # Target: duration of hospitalization\n",
        "\n",
        "lin_reg = LinearRegression()\n",
        "lin_reg.fit(X, y)\n",
        "\n",
        "# Predictions and evaluation\n",
        "y_pred = lin_reg.predict(X)\n",
        "print(f\"R-squared: {r2_score(y, y_pred)}\")\n",
        "print(f\"Mean Squared Error: {mean_squared_error(y, y_pred)}\")\n"
      ],
      "metadata": {
        "id": "hv6PkyMYn-Uq"
      },
      "execution_count": null,
      "outputs": []
    },
    {
      "cell_type": "markdown",
      "source": [
        "**Step 6: Random Forest Regressor**\n",
        "\n",
        "Use Random Forest to model the relationship between clinical factors and the hospitalization duration, and evaluate the feature importance."
      ],
      "metadata": {
        "id": "JBtJzm-Bn_jx"
      }
    },
    {
      "cell_type": "code",
      "source": [
        "# Random Forest Regressor for hospitalization duration\n",
        "rf_regressor = RandomForestRegressor()\n",
        "rf_regressor.fit(X, y)\n",
        "\n",
        "# Predictions and evaluation\n",
        "y_pred = rf_regressor.predict(X)\n",
        "print(f\"Random Forest R-squared: {r2_score(y, y_pred)}\")\n",
        "print(f\"Mean Squared Error: {mean_squared_error(y, y_pred)}\")\n",
        "\n",
        "# Feature importance\n",
        "feature_importance = rf_regressor.feature_importances_\n",
        "print(f\"Feature Importance: {feature_importance}\")\n"
      ],
      "metadata": {
        "id": "e-KcXKYvoERh"
      },
      "execution_count": null,
      "outputs": []
    },
    {
      "cell_type": "markdown",
      "source": [
        "**Step 7: Visualization**\n",
        "\n",
        "Visualize the correlation between predicted and actual outcomes using scatter plots."
      ],
      "metadata": {
        "id": "VXcSdhbtoI72"
      }
    },
    {
      "cell_type": "code",
      "source": [
        "# Scatter plot for regression results\n",
        "plt.figure(figsize=(8, 6))\n",
        "plt.scatter(y, y_pred, alpha=0.7)\n",
        "plt.title('Predicted vs Actual Duration')\n",
        "plt.xlabel('Actual Duration')\n",
        "plt.ylabel('Predicted Duration')\n",
        "plt.show()"
      ],
      "metadata": {
        "id": "YjdnXqOpoIOk"
      },
      "execution_count": null,
      "outputs": []
    }
  ]
}